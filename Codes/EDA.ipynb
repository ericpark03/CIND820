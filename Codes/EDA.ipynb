{
 "cells": [
  {
   "cell_type": "code",
   "execution_count": 1,
   "metadata": {
    "id": "hlGmQDuuzTPD"
   },
   "outputs": [],
   "source": [
    "import pandas as pd\n",
    "import numpy as np\n",
    "import statistics\n",
    "from statistics import mean\n",
    "import matplotlib.pyplot as plt"
   ]
  },
  {
   "cell_type": "code",
   "execution_count": null,
   "metadata": {
    "id": "m9_CtyxEzTPN"
   },
   "outputs": [],
   "source": [
    "df=pd.read_excel('C:\\\\Users\\\\eric.park\\\\Downloads\\\\vaccine_doses.xlsx')"
   ]
  },
  {
   "cell_type": "code",
   "execution_count": null,
   "metadata": {
    "id": "hen7wcp2zTPP"
   },
   "outputs": [],
   "source": [
    "dft=df[['report_date','previous_day_at_least_one','previous_day_fully_vaccinated','previous_day_3doses','previous_day_total_doses_administered']]"
   ]
  },
  {
   "cell_type": "code",
   "execution_count": null,
   "metadata": {
    "id": "WBmkGcyRzTPR"
   },
   "outputs": [],
   "source": [
    "#count NAs"
   ]
  },
  {
   "cell_type": "code",
   "execution_count": null,
   "metadata": {
    "id": "aGdKdHpZzTPZ",
    "outputId": "13c458c7-d219-413a-9bdc-a88c7f4ffa7a"
   },
   "outputs": [
    {
     "data": {
      "text/plain": [
       "report_date                                0\n",
       "previous_day_at_least_one                  9\n",
       "previous_day_fully_vaccinated              9\n",
       "previous_day_3doses                      372\n",
       "previous_day_total_doses_administered      1\n",
       "dtype: int64"
      ]
     },
     "execution_count": 6,
     "metadata": {},
     "output_type": "execute_result"
    }
   ],
   "source": [
    "dft.isna().sum()"
   ]
  },
  {
   "cell_type": "code",
   "execution_count": null,
   "metadata": {
    "id": "7smFql20zTPd"
   },
   "outputs": [],
   "source": [
    "#Data Type"
   ]
  },
  {
   "cell_type": "code",
   "execution_count": null,
   "metadata": {
    "id": "Wm83aJ32zTPf",
    "outputId": "b8507f52-a586-4a44-de99-e10ad7550c73"
   },
   "outputs": [
    {
     "data": {
      "text/plain": [
       "report_date                               object\n",
       "previous_day_at_least_one                float64\n",
       "previous_day_fully_vaccinated            float64\n",
       "previous_day_3doses                      float64\n",
       "previous_day_total_doses_administered    float64\n",
       "dtype: object"
      ]
     },
     "execution_count": 7,
     "metadata": {},
     "output_type": "execute_result"
    }
   ],
   "source": [
    "dft.dtypes"
   ]
  },
  {
   "cell_type": "code",
   "execution_count": null,
   "metadata": {
    "id": "TQW-xuDrzTPj",
    "outputId": "7b9be744-b26a-46e8-f5d2-a9b575c3817c"
   },
   "outputs": [
    {
     "data": {
      "text/html": [
       "<div>\n",
       "<style scoped>\n",
       "    .dataframe tbody tr th:only-of-type {\n",
       "        vertical-align: middle;\n",
       "    }\n",
       "\n",
       "    .dataframe tbody tr th {\n",
       "        vertical-align: top;\n",
       "    }\n",
       "\n",
       "    .dataframe thead th {\n",
       "        text-align: right;\n",
       "    }\n",
       "</style>\n",
       "<table border=\"1\" class=\"dataframe\">\n",
       "  <thead>\n",
       "    <tr style=\"text-align: right;\">\n",
       "      <th></th>\n",
       "      <th>previous_day_at_least_one</th>\n",
       "      <th>previous_day_fully_vaccinated</th>\n",
       "      <th>previous_day_3doses</th>\n",
       "      <th>previous_day_total_doses_administered</th>\n",
       "    </tr>\n",
       "  </thead>\n",
       "  <tbody>\n",
       "    <tr>\n",
       "      <th>count</th>\n",
       "      <td>417.00</td>\n",
       "      <td>417.00</td>\n",
       "      <td>54.00</td>\n",
       "      <td>425.00</td>\n",
       "    </tr>\n",
       "    <tr>\n",
       "      <th>mean</th>\n",
       "      <td>29,988.06</td>\n",
       "      <td>28,789.57</td>\n",
       "      <td>57,052.72</td>\n",
       "      <td>74,500.04</td>\n",
       "    </tr>\n",
       "    <tr>\n",
       "      <th>std</th>\n",
       "      <td>37,344.18</td>\n",
       "      <td>49,956.21</td>\n",
       "      <td>48,873.07</td>\n",
       "      <td>72,893.51</td>\n",
       "    </tr>\n",
       "    <tr>\n",
       "      <th>min</th>\n",
       "      <td>204.00</td>\n",
       "      <td>0.00</td>\n",
       "      <td>7,021.00</td>\n",
       "      <td>2,256.00</td>\n",
       "    </tr>\n",
       "    <tr>\n",
       "      <th>25%</th>\n",
       "      <td>6,635.00</td>\n",
       "      <td>3,854.00</td>\n",
       "      <td>20,645.75</td>\n",
       "      <td>21,325.00</td>\n",
       "    </tr>\n",
       "    <tr>\n",
       "      <th>50%</th>\n",
       "      <td>13,171.00</td>\n",
       "      <td>9,226.00</td>\n",
       "      <td>36,666.00</td>\n",
       "      <td>46,550.00</td>\n",
       "    </tr>\n",
       "    <tr>\n",
       "      <th>75%</th>\n",
       "      <td>31,530.00</td>\n",
       "      <td>22,811.00</td>\n",
       "      <td>82,862.50</td>\n",
       "      <td>112,817.00</td>\n",
       "    </tr>\n",
       "    <tr>\n",
       "      <th>max</th>\n",
       "      <td>165,905.00</td>\n",
       "      <td>244,701.00</td>\n",
       "      <td>176,118.00</td>\n",
       "      <td>787,013.00</td>\n",
       "    </tr>\n",
       "  </tbody>\n",
       "</table>\n",
       "</div>"
      ],
      "text/plain": [
       "      previous_day_at_least_one previous_day_fully_vaccinated  \\\n",
       "count                    417.00                        417.00   \n",
       "mean                  29,988.06                     28,789.57   \n",
       "std                   37,344.18                     49,956.21   \n",
       "min                      204.00                          0.00   \n",
       "25%                    6,635.00                      3,854.00   \n",
       "50%                   13,171.00                      9,226.00   \n",
       "75%                   31,530.00                     22,811.00   \n",
       "max                  165,905.00                    244,701.00   \n",
       "\n",
       "      previous_day_3doses previous_day_total_doses_administered  \n",
       "count               54.00                                425.00  \n",
       "mean            57,052.72                             74,500.04  \n",
       "std             48,873.07                             72,893.51  \n",
       "min              7,021.00                              2,256.00  \n",
       "25%             20,645.75                             21,325.00  \n",
       "50%             36,666.00                             46,550.00  \n",
       "75%             82,862.50                            112,817.00  \n",
       "max            176,118.00                            787,013.00  "
      ]
     },
     "execution_count": 8,
     "metadata": {},
     "output_type": "execute_result"
    }
   ],
   "source": [
    "dft.describe().applymap('{:,.2f}'.format)"
   ]
  },
  {
   "cell_type": "code",
   "execution_count": null,
   "metadata": {
    "id": "VkmO5Y5ozTPl"
   },
   "outputs": [],
   "source": [
    "#box plot "
   ]
  },
  {
   "cell_type": "code",
   "execution_count": null,
   "metadata": {
    "id": "QgZUAeYLzTPn",
    "outputId": "8d0f858a-c37a-4c1c-a993-3244b718b816"
   },
   "outputs": [
    {
     "data": {
      "text/plain": [
       "<matplotlib.axes._subplots.AxesSubplot at 0x2187092c340>"
      ]
     },
     "execution_count": 9,
     "metadata": {},
     "output_type": "execute_result"
    },
    {
     "data": {
      "image/png": "[encoded data removed]",
      "text/plain": [
       "<Figure size 864x720 with 1 Axes>"
      ]
     },
     "metadata": {
      "needs_background": "light"
     },
     "output_type": "display_data"
    }
   ],
   "source": [
    "dft.boxplot(figsize=(12,10))"
   ]
  },
  {
   "cell_type": "code",
   "execution_count": null,
   "metadata": {
    "id": "PIpVoYcnzTPp"
   },
   "outputs": [],
   "source": [
    "# histograph"
   ]
  },
  {
   "cell_type": "code",
   "execution_count": null,
   "metadata": {
    "id": "WUCiuIZXzTPq",
    "outputId": "1098ee29-3645-44f4-ef85-075c5f7c7575"
   },
   "outputs": [
    {
     "data": {
      "text/plain": [
       "array([[<matplotlib.axes._subplots.AxesSubplot object at 0x00000218710B1EB0>,\n",
       "        <matplotlib.axes._subplots.AxesSubplot object at 0x0000021871372280>],\n",
       "       [<matplotlib.axes._subplots.AxesSubplot object at 0x00000218710ED670>,\n",
       "        <matplotlib.axes._subplots.AxesSubplot object at 0x0000021871119AF0>]],\n",
       "      dtype=object)"
      ]
     },
     "execution_count": 10,
     "metadata": {},
     "output_type": "execute_result"
    },
    {
     "data": {
      "image/png": "[encoded data removed]",
      "text/plain": [
       "<Figure size 1296x576 with 4 Axes>"
      ]
     },
     "metadata": {
      "needs_background": "light"
     },
     "output_type": "display_data"
    }
   ],
   "source": [
    "dft.hist(figsize=(18,8))"
   ]
  },
  {
   "cell_type": "code",
   "execution_count": null,
   "metadata": {
    "id": "OQ6ZKnaXzTPs"
   },
   "outputs": [],
   "source": [
    "#correlation"
   ]
  },
  {
   "cell_type": "code",
   "execution_count": null,
   "metadata": {
    "id": "3OL5d59zzTPs",
    "outputId": "21a35650-ad88-4321-b9f4-ec03ef510cde"
   },
   "outputs": [
    {
     "data": {
      "text/html": [
       "<div>\n",
       "<style scoped>\n",
       "    .dataframe tbody tr th:only-of-type {\n",
       "        vertical-align: middle;\n",
       "    }\n",
       "\n",
       "    .dataframe tbody tr th {\n",
       "        vertical-align: top;\n",
       "    }\n",
       "\n",
       "    .dataframe thead th {\n",
       "        text-align: right;\n",
       "    }\n",
       "</style>\n",
       "<table border=\"1\" class=\"dataframe\">\n",
       "  <thead>\n",
       "    <tr style=\"text-align: right;\">\n",
       "      <th></th>\n",
       "      <th>previous_day_at_least_one</th>\n",
       "      <th>previous_day_fully_vaccinated</th>\n",
       "      <th>previous_day_3doses</th>\n",
       "      <th>previous_day_total_doses_administered</th>\n",
       "    </tr>\n",
       "  </thead>\n",
       "  <tbody>\n",
       "    <tr>\n",
       "      <th>previous_day_at_least_one</th>\n",
       "      <td>1.000000</td>\n",
       "      <td>-0.036094</td>\n",
       "      <td>0.877246</td>\n",
       "      <td>0.376057</td>\n",
       "    </tr>\n",
       "    <tr>\n",
       "      <th>previous_day_fully_vaccinated</th>\n",
       "      <td>-0.036094</td>\n",
       "      <td>1.000000</td>\n",
       "      <td>0.013295</td>\n",
       "      <td>0.568996</td>\n",
       "    </tr>\n",
       "    <tr>\n",
       "      <th>previous_day_3doses</th>\n",
       "      <td>0.877246</td>\n",
       "      <td>0.013295</td>\n",
       "      <td>1.000000</td>\n",
       "      <td>0.984385</td>\n",
       "    </tr>\n",
       "    <tr>\n",
       "      <th>previous_day_total_doses_administered</th>\n",
       "      <td>0.376057</td>\n",
       "      <td>0.568996</td>\n",
       "      <td>0.984385</td>\n",
       "      <td>1.000000</td>\n",
       "    </tr>\n",
       "  </tbody>\n",
       "</table>\n",
       "</div>"
      ],
      "text/plain": [
       "                                       previous_day_at_least_one  \\\n",
       "previous_day_at_least_one                               1.000000   \n",
       "previous_day_fully_vaccinated                          -0.036094   \n",
       "previous_day_3doses                                     0.877246   \n",
       "previous_day_total_doses_administered                   0.376057   \n",
       "\n",
       "                                       previous_day_fully_vaccinated  \\\n",
       "previous_day_at_least_one                                  -0.036094   \n",
       "previous_day_fully_vaccinated                               1.000000   \n",
       "previous_day_3doses                                         0.013295   \n",
       "previous_day_total_doses_administered                       0.568996   \n",
       "\n",
       "                                       previous_day_3doses  \\\n",
       "previous_day_at_least_one                         0.877246   \n",
       "previous_day_fully_vaccinated                     0.013295   \n",
       "previous_day_3doses                               1.000000   \n",
       "previous_day_total_doses_administered             0.984385   \n",
       "\n",
       "                                       previous_day_total_doses_administered  \n",
       "previous_day_at_least_one                                           0.376057  \n",
       "previous_day_fully_vaccinated                                       0.568996  \n",
       "previous_day_3doses                                                 0.984385  \n",
       "previous_day_total_doses_administered                               1.000000  "
      ]
     },
     "execution_count": 11,
     "metadata": {},
     "output_type": "execute_result"
    }
   ],
   "source": [
    "dft.corr()"
   ]
  },
  {
   "cell_type": "code",
   "execution_count": null,
   "metadata": {
    "id": "eJ8ZtXyxzTPt"
   },
   "outputs": [],
   "source": [
    "#normalize the data"
   ]
  },
  {
   "cell_type": "code",
   "execution_count": null,
   "metadata": {
    "id": "8RpMvt0wzTPu"
   },
   "outputs": [],
   "source": [
    "from sklearn import preprocessing"
   ]
  },
  {
   "cell_type": "code",
   "execution_count": null,
   "metadata": {
    "id": "Bd0zpwsVzTPx",
    "outputId": "bdfbda5a-276b-426a-f1d0-7c0877646eff"
   },
   "outputs": [
    {
     "data": {
      "text/plain": [
       "array([[<matplotlib.axes._subplots.AxesSubplot object at 0x00000218737C8E20>]],\n",
       "      dtype=object)"
      ]
     },
     "execution_count": 47,
     "metadata": {},
     "output_type": "execute_result"
    },
    {
     "data": {
      "image/png": "[encoded data removed]",
      "text/plain": [
       "<Figure size 1296x576 with 1 Axes>"
      ]
     },
     "metadata": {
      "needs_background": "light"
     },
     "output_type": "display_data"
    }
   ],
   "source": [
    "dft1=dft[['previous_day_at_least_one']]\n",
    "dft1=dft1.dropna()\n",
    "d=preprocessing.normalize(dft1)\n",
    "norm_df=pd.DataFrame(d,columns=['a'])\n",
    "norm_df.hist(figsize=(18,8))"
   ]
  },
  {
   "cell_type": "code",
   "execution_count": null,
   "metadata": {
    "id": "bjgNqOa4zTPy",
    "outputId": "9ea28789-a3e8-49c5-dc76-ee93cb0fa984"
   },
   "outputs": [
    {
     "data": {
      "text/plain": [
       "array([[<matplotlib.axes._subplots.AxesSubplot object at 0x0000021873838A90>]],\n",
       "      dtype=object)"
      ]
     },
     "execution_count": 48,
     "metadata": {},
     "output_type": "execute_result"
    },
    {
     "data": {
      "image/png": "[encoded data removed]",
      "text/plain": [
       "<Figure size 1296x576 with 1 Axes>"
      ]
     },
     "metadata": {
      "needs_background": "light"
     },
     "output_type": "display_data"
    }
   ],
   "source": [
    "dft2=dft[['previous_day_fully_vaccinated']]\n",
    "dft2=dft2.dropna()\n",
    "d=preprocessing.normalize(dft2)\n",
    "norm_df=pd.DataFrame(d,columns=['a'])\n",
    "norm_df.hist(figsize=(18,8))"
   ]
  },
  {
   "cell_type": "code",
   "execution_count": null,
   "metadata": {
    "id": "xmWE6aFTzTP0",
    "outputId": "656dd63d-ef06-4d3e-d843-41ecc46f917b"
   },
   "outputs": [
    {
     "data": {
      "text/plain": [
       "array([[<matplotlib.axes._subplots.AxesSubplot object at 0x000002187383DD90>]],\n",
       "      dtype=object)"
      ]
     },
     "execution_count": 49,
     "metadata": {},
     "output_type": "execute_result"
    },
    {
     "data": {
      "image/png": "[encoded data removed]",
      "text/plain": [
       "<Figure size 1296x576 with 1 Axes>"
      ]
     },
     "metadata": {
      "needs_background": "light"
     },
     "output_type": "display_data"
    }
   ],
   "source": [
    "dft3=dft[['previous_day_3doses']]\n",
    "dft3=dft3.dropna()\n",
    "d=preprocessing.normalize(dft3)\n",
    "norm_df=pd.DataFrame(d,columns=['a'])\n",
    "norm_df.hist(figsize=(18,8))"
   ]
  },
  {
   "cell_type": "code",
   "execution_count": null,
   "metadata": {
    "id": "zOgXfTqkzTP1",
    "outputId": "620c3b7b-d3c1-4888-aef6-4768e1cdd33a"
   },
   "outputs": [
    {
     "data": {
      "text/plain": [
       "array([[<matplotlib.axes._subplots.AxesSubplot object at 0x0000021873AD3100>]],\n",
       "      dtype=object)"
      ]
     },
     "execution_count": 50,
     "metadata": {},
     "output_type": "execute_result"
    },
    {
     "data": {
      "image/png": "[encoded data removed]",
      "text/plain": [
       "<Figure size 1296x576 with 1 Axes>"
      ]
     },
     "metadata": {
      "needs_background": "light"
     },
     "output_type": "display_data"
    }
   ],
   "source": [
    "dft4=dft[['previous_day_total_doses_administered']]\n",
    "dft4=dft4.dropna()\n",
    "d=preprocessing.normalize(dft4)\n",
    "norm_df=pd.DataFrame(d,columns=['a'])\n",
    "norm_df.hist(figsize=(18,8))"
   ]
  },
  {
   "cell_type": "code",
   "execution_count": 2,
   "metadata": {},
   "outputs": [],
   "source": [
    "df1=pd.read_excel('C:\\\\Users\\\\eric.park\\\\Downloads\\\\vaccines_by_age.xlsx')"
   ]
  },
  {
   "cell_type": "code",
   "execution_count": 4,
   "metadata": {},
   "outputs": [],
   "source": [
    "dft_age=df1[['Date','At least one dose_cumulative','Second_dose_cumulative','third_dose_cumulative']]"
   ]
  },
  {
   "cell_type": "code",
   "execution_count": 5,
   "metadata": {},
   "outputs": [
    {
     "data": {
      "text/plain": [
       "Date                               0\n",
       "At least one dose_cumulative       0\n",
       "Second_dose_cumulative           897\n",
       "third_dose_cumulative           4305\n",
       "dtype: int64"
      ]
     },
     "execution_count": 5,
     "metadata": {},
     "output_type": "execute_result"
    }
   ],
   "source": [
    "dft_age.isna().sum()"
   ]
  },
  {
   "cell_type": "code",
   "execution_count": 7,
   "metadata": {},
   "outputs": [
    {
     "data": {
      "text/plain": [
       "Date                            datetime64[ns]\n",
       "At least one dose_cumulative             int64\n",
       "Second_dose_cumulative                 float64\n",
       "third_dose_cumulative                  float64\n",
       "dtype: object"
      ]
     },
     "execution_count": 7,
     "metadata": {},
     "output_type": "execute_result"
    }
   ],
   "source": [
    "dft_age.dtypes"
   ]
  },
  {
   "cell_type": "code",
   "execution_count": 8,
   "metadata": {},
   "outputs": [
    {
     "data": {
      "text/html": [
       "<div>\n",
       "<style scoped>\n",
       "    .dataframe tbody tr th:only-of-type {\n",
       "        vertical-align: middle;\n",
       "    }\n",
       "\n",
       "    .dataframe tbody tr th {\n",
       "        vertical-align: top;\n",
       "    }\n",
       "\n",
       "    .dataframe thead th {\n",
       "        text-align: right;\n",
       "    }\n",
       "</style>\n",
       "<table border=\"1\" class=\"dataframe\">\n",
       "  <thead>\n",
       "    <tr style=\"text-align: right;\">\n",
       "      <th></th>\n",
       "      <th>At least one dose_cumulative</th>\n",
       "      <th>Second_dose_cumulative</th>\n",
       "      <th>third_dose_cumulative</th>\n",
       "    </tr>\n",
       "  </thead>\n",
       "  <tbody>\n",
       "    <tr>\n",
       "      <th>count</th>\n",
       "      <td>4,747.00</td>\n",
       "      <td>3,850.00</td>\n",
       "      <td>442.00</td>\n",
       "    </tr>\n",
       "    <tr>\n",
       "      <th>mean</th>\n",
       "      <td>2,118,820.53</td>\n",
       "      <td>1,231,565.42</td>\n",
       "      <td>1,755,697.18</td>\n",
       "    </tr>\n",
       "    <tr>\n",
       "      <th>std</th>\n",
       "      <td>3,387,902.81</td>\n",
       "      <td>2,550,252.97</td>\n",
       "      <td>2,225,109.43</td>\n",
       "    </tr>\n",
       "    <tr>\n",
       "      <th>min</th>\n",
       "      <td>0.00</td>\n",
       "      <td>0.00</td>\n",
       "      <td>0.00</td>\n",
       "    </tr>\n",
       "    <tr>\n",
       "      <th>25%</th>\n",
       "      <td>80,860.50</td>\n",
       "      <td>13,507.50</td>\n",
       "      <td>468,789.75</td>\n",
       "    </tr>\n",
       "    <tr>\n",
       "      <th>50%</th>\n",
       "      <td>943,317.00</td>\n",
       "      <td>193,616.50</td>\n",
       "      <td>816,695.50</td>\n",
       "    </tr>\n",
       "    <tr>\n",
       "      <th>75%</th>\n",
       "      <td>1,720,422.00</td>\n",
       "      <td>1,343,163.75</td>\n",
       "      <td>1,254,583.75</td>\n",
       "    </tr>\n",
       "    <tr>\n",
       "      <th>max</th>\n",
       "      <td>12,492,618.00</td>\n",
       "      <td>11,257,423.00</td>\n",
       "      <td>6,604,028.00</td>\n",
       "    </tr>\n",
       "  </tbody>\n",
       "</table>\n",
       "</div>"
      ],
      "text/plain": [
       "      At least one dose_cumulative Second_dose_cumulative  \\\n",
       "count                     4,747.00               3,850.00   \n",
       "mean                  2,118,820.53           1,231,565.42   \n",
       "std                   3,387,902.81           2,550,252.97   \n",
       "min                           0.00                   0.00   \n",
       "25%                      80,860.50              13,507.50   \n",
       "50%                     943,317.00             193,616.50   \n",
       "75%                   1,720,422.00           1,343,163.75   \n",
       "max                  12,492,618.00          11,257,423.00   \n",
       "\n",
       "      third_dose_cumulative  \n",
       "count                442.00  \n",
       "mean           1,755,697.18  \n",
       "std            2,225,109.43  \n",
       "min                    0.00  \n",
       "25%              468,789.75  \n",
       "50%              816,695.50  \n",
       "75%            1,254,583.75  \n",
       "max            6,604,028.00  "
      ]
     },
     "execution_count": 8,
     "metadata": {},
     "output_type": "execute_result"
    }
   ],
   "source": [
    "dft_age.describe().applymap('{:,.2f}'.format)"
   ]
  },
  {
   "cell_type": "code",
   "execution_count": 10,
   "metadata": {},
   "outputs": [
    {
     "data": {
      "text/plain": [
       "<matplotlib.axes._subplots.AxesSubplot at 0x20181b29f70>"
      ]
     },
     "execution_count": 10,
     "metadata": {},
     "output_type": "execute_result"
    },
    {
     "data": {
      "image/png": "[encoded data removed]",
      "text/plain": [
       "<Figure size 864x720 with 1 Axes>"
      ]
     },
     "metadata": {
      "needs_background": "light"
     },
     "output_type": "display_data"
    }
   ],
   "source": [
    "dft_age.boxplot(figsize=(12,10))"
   ]
  },
  {
   "cell_type": "code",
   "execution_count": 11,
   "metadata": {},
   "outputs": [
    {
     "data": {
      "text/plain": [
       "array([[<matplotlib.axes._subplots.AxesSubplot object at 0x0000020182571A00>,\n",
       "        <matplotlib.axes._subplots.AxesSubplot object at 0x0000020182599D60>],\n",
       "       [<matplotlib.axes._subplots.AxesSubplot object at 0x000002018276B0D0>,\n",
       "        <matplotlib.axes._subplots.AxesSubplot object at 0x00000201827964C0>]],\n",
       "      dtype=object)"
      ]
     },
     "execution_count": 11,
     "metadata": {},
     "output_type": "execute_result"
    },
    {
     "data": {
      "image/png": "[encoded data removed]",
      "text/plain": [
       "<Figure size 1296x576 with 4 Axes>"
      ]
     },
     "metadata": {
      "needs_background": "light"
     },
     "output_type": "display_data"
    }
   ],
   "source": [
    "dft_age.hist(figsize=(18,8))"
   ]
  },
  {
   "cell_type": "code",
   "execution_count": 12,
   "metadata": {},
   "outputs": [
    {
     "data": {
      "text/html": [
       "<div>\n",
       "<style scoped>\n",
       "    .dataframe tbody tr th:only-of-type {\n",
       "        vertical-align: middle;\n",
       "    }\n",
       "\n",
       "    .dataframe tbody tr th {\n",
       "        vertical-align: top;\n",
       "    }\n",
       "\n",
       "    .dataframe thead th {\n",
       "        text-align: right;\n",
       "    }\n",
       "</style>\n",
       "<table border=\"1\" class=\"dataframe\">\n",
       "  <thead>\n",
       "    <tr style=\"text-align: right;\">\n",
       "      <th></th>\n",
       "      <th>At least one dose_cumulative</th>\n",
       "      <th>Second_dose_cumulative</th>\n",
       "      <th>third_dose_cumulative</th>\n",
       "    </tr>\n",
       "  </thead>\n",
       "  <tbody>\n",
       "    <tr>\n",
       "      <th>At least one dose_cumulative</th>\n",
       "      <td>1.000000</td>\n",
       "      <td>0.911421</td>\n",
       "      <td>0.980579</td>\n",
       "    </tr>\n",
       "    <tr>\n",
       "      <th>Second_dose_cumulative</th>\n",
       "      <td>0.911421</td>\n",
       "      <td>1.000000</td>\n",
       "      <td>NaN</td>\n",
       "    </tr>\n",
       "    <tr>\n",
       "      <th>third_dose_cumulative</th>\n",
       "      <td>0.980579</td>\n",
       "      <td>NaN</td>\n",
       "      <td>1.000000</td>\n",
       "    </tr>\n",
       "  </tbody>\n",
       "</table>\n",
       "</div>"
      ],
      "text/plain": [
       "                              At least one dose_cumulative  \\\n",
       "At least one dose_cumulative                      1.000000   \n",
       "Second_dose_cumulative                            0.911421   \n",
       "third_dose_cumulative                             0.980579   \n",
       "\n",
       "                              Second_dose_cumulative  third_dose_cumulative  \n",
       "At least one dose_cumulative                0.911421               0.980579  \n",
       "Second_dose_cumulative                      1.000000                    NaN  \n",
       "third_dose_cumulative                            NaN               1.000000  "
      ]
     },
     "execution_count": 12,
     "metadata": {},
     "output_type": "execute_result"
    }
   ],
   "source": [
    "dft_age.corr()"
   ]
  },
  {
   "cell_type": "code",
   "execution_count": 13,
   "metadata": {},
   "outputs": [],
   "source": [
    "from sklearn import preprocessing"
   ]
  },
  {
   "cell_type": "code",
   "execution_count": 14,
   "metadata": {},
   "outputs": [
    {
     "data": {
      "text/plain": [
       "array([[<matplotlib.axes._subplots.AxesSubplot object at 0x0000020181A2DA30>]],\n",
       "      dtype=object)"
      ]
     },
     "execution_count": 14,
     "metadata": {},
     "output_type": "execute_result"
    },
    {
     "data": {
      "image/png": "[encoded data removed]",
      "text/plain": [
       "<Figure size 1296x576 with 1 Axes>"
      ]
     },
     "metadata": {
      "needs_background": "light"
     },
     "output_type": "display_data"
    }
   ],
   "source": [
    "dft_age=dft1[['At least one dose_cumulative']]\n",
    "dft1_age=dft_age.dropna()\n",
    "d=preprocessing.normalize(dft1_age)\n",
    "norm_df=pd.DataFrame(d,columns=['a'])\n",
    "norm_df.hist(figsize=(18,8))"
   ]
  },
  {
   "cell_type": "code",
   "execution_count": 15,
   "metadata": {},
   "outputs": [
    {
     "data": {
      "text/plain": [
       "array([[<matplotlib.axes._subplots.AxesSubplot object at 0x00000201819DED90>]],\n",
       "      dtype=object)"
      ]
     },
     "execution_count": 15,
     "metadata": {},
     "output_type": "execute_result"
    },
    {
     "data": {
      "image/png": "[encoded data removed]",
      "text/plain": [
       "<Figure size 1296x576 with 1 Axes>"
      ]
     },
     "metadata": {
      "needs_background": "light"
     },
     "output_type": "display_data"
    }
   ],
   "source": [
    "dft_age=dft1[['Second_dose_cumulative']]\n",
    "dft2_age=dft_age.dropna()\n",
    "d=preprocessing.normalize(dft2_age)\n",
    "norm_df=pd.DataFrame(d,columns=['a'])\n",
    "norm_df.hist(figsize=(18,8))"
   ]
  },
  {
   "cell_type": "code",
   "execution_count": 16,
   "metadata": {},
   "outputs": [
    {
     "data": {
      "text/plain": [
       "array([[<matplotlib.axes._subplots.AxesSubplot object at 0x00000201819C2F10>]],\n",
       "      dtype=object)"
      ]
     },
     "execution_count": 16,
     "metadata": {},
     "output_type": "execute_result"
    },
    {
     "data": {
      "image/png": "[encoded data removed]",
      "text/plain": [
       "<Figure size 1296x576 with 1 Axes>"
      ]
     },
     "metadata": {
      "needs_background": "light"
     },
     "output_type": "display_data"
    }
   ],
   "source": [
    "dft_age=dft1[['third_dose_cumulative']]\n",
    "dft3_age=dft_age.dropna()\n",
    "d=preprocessing.normalize(dft3_age)\n",
    "norm_df=pd.DataFrame(d,columns=['a'])\n",
    "norm_df.hist(figsize=(18,8))"
   ]
  }
 ],
 "metadata": {
  "colab": {
   "name": "EDA.ipynb",
   "provenance": []
  },
  "kernelspec": {
   "display_name": "Python 3",
   "language": "python",
   "name": "python3"
  },
  "language_info": {
   "codemirror_mode": {
    "name": "ipython",
    "version": 3
   },
   "file_extension": ".py",
   "mimetype": "text/x-python",
   "name": "python",
   "nbconvert_exporter": "python",
   "pygments_lexer": "ipython3",
   "version": "3.8.3"
  }
 },
 "nbformat": 4,
 "nbformat_minor": 1
}
